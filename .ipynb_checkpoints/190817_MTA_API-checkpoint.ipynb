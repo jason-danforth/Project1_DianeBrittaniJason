{
 "cells": [
  {
   "cell_type": "code",
   "execution_count": 2,
   "metadata": {},
   "outputs": [],
   "source": [
    "import pandas as pd\n",
    "import requests\n",
    "import matplotlib.pyplot as plt\n",
    "from google.transit import gtfs_realtime_pb2\n",
    "from pprint import pprint\n",
    "\n",
    "%matplotlib inline"
   ]
  },
  {
   "cell_type": "markdown",
   "metadata": {},
   "source": [
    "Medium post on working with gtfs realtime data: https://medium.com/@BennettGarner/parsing-gtfs-format-transit-data-in-real-time-with-python-3a528ba7aab7\n",
    "\n",
    "And the repo with actual code: https://github.com/bennett39/mta-real-time-data/blob/master/gtfs.py\n",
    "\n",
    "GTFS reference material: https://developers.google.com/transit/gtfs-realtime/reference/"
   ]
  },
  {
   "cell_type": "code",
   "execution_count": 37,
   "metadata": {},
   "outputs": [],
   "source": [
    "df_stops = pd.read_csv('data\\google_transit\\stops.csv')"
   ]
  },
  {
   "cell_type": "code",
   "execution_count": 3,
   "metadata": {},
   "outputs": [],
   "source": [
    "api_key = '230ffa803afc2f7fa526a3e39982256d'"
   ]
  },
  {
   "cell_type": "code",
   "execution_count": 4,
   "metadata": {},
   "outputs": [],
   "source": [
    "url_123456S = f'http://datamine.mta.info/mta_esi.php?key={api_key}&feed_id=1'\n",
    "url_ACEHS = 'http://datamine.mta.info/mta_esi.php?key={api_key}&feed_id=26'\n",
    "url_NQRW = 'http://datamine.mta.info/mta_esi.php?key={api_key}&feed_id=16'\n",
    "url_BDFM = 'http://datamine.mta.info/mta_esi.php?key={api_key}&feed_id=21'\n",
    "url_L = 'http://datamine.mta.info/mta_esi.php?key={api_key}&feed_id=2'\n",
    "url_G = 'http://datamine.mta.info/mta_esi.php?key={api_key}&feed_id=31'\n",
    "url_JZ = 'http://datamine.mta.info/mta_esi.php?key={api_key}&feed_id=36'\n",
    "url_7 = 'http://datamine.mta.info/mta_esi.php?key={api_key}&feed_id=51'"
   ]
  },
  {
   "cell_type": "code",
   "execution_count": 5,
   "metadata": {},
   "outputs": [],
   "source": [
    "# list of unique URLs for each train line: http://datamine.mta.info/list-of-feeds\n",
    "url = url_123456S"
   ]
  },
  {
   "cell_type": "code",
   "execution_count": 123,
   "metadata": {},
   "outputs": [
    {
     "data": {
      "text/plain": [
       "173208"
      ]
     },
     "execution_count": 123,
     "metadata": {},
     "output_type": "execute_result"
    }
   ],
   "source": [
    "# make request\n",
    "response = requests.get(url)\n",
    "feed = gtfs_realtime_pb2.FeedMessage()\n",
    "feed.ParseFromString(response.content)"
   ]
  },
  {
   "cell_type": "code",
   "execution_count": 128,
   "metadata": {},
   "outputs": [
    {
     "data": {
      "text/plain": [
       "google.protobuf.pyext._message.RepeatedCompositeContainer"
      ]
     },
     "execution_count": 128,
     "metadata": {},
     "output_type": "execute_result"
    }
   ],
   "source": [
    "type(feed.entity)"
   ]
  },
  {
   "cell_type": "code",
   "execution_count": 124,
   "metadata": {
    "scrolled": true
   },
   "outputs": [
    {
     "data": {
      "text/plain": [
       "id: \"000001\"\n",
       "trip_update {\n",
       "  trip {\n",
       "    trip_id: \"110900_1..S\"\n",
       "    start_date: \"20190820\"\n",
       "    route_id: \"1\"\n",
       "  }\n",
       "  stop_time_update {\n",
       "    arrival {\n",
       "      time: 1566343649\n",
       "    }\n",
       "    departure {\n",
       "      time: 1566343649\n",
       "    }\n",
       "    stop_id: \"138S\"\n",
       "  }\n",
       "  stop_time_update {\n",
       "    arrival {\n",
       "      time: 1566343739\n",
       "    }\n",
       "    departure {\n",
       "      time: 1566343739\n",
       "    }\n",
       "    stop_id: \"139S\"\n",
       "  }\n",
       "  stop_time_update {\n",
       "    arrival {\n",
       "      time: 1566343859\n",
       "    }\n",
       "    stop_id: \"142S\"\n",
       "  }\n",
       "}"
      ]
     },
     "execution_count": 124,
     "metadata": {},
     "output_type": "execute_result"
    }
   ],
   "source": [
    "feed.entity[0]"
   ]
  },
  {
   "cell_type": "code",
   "execution_count": 130,
   "metadata": {},
   "outputs": [
    {
     "data": {
      "text/plain": [
       "'138S'"
      ]
     },
     "execution_count": 130,
     "metadata": {},
     "output_type": "execute_result"
    }
   ],
   "source": [
    "feed.entity[0].trip_update.stop_time_update[0].stop_id"
   ]
  },
  {
   "cell_type": "code",
   "execution_count": 125,
   "metadata": {},
   "outputs": [],
   "source": [
    "one_line = []\n",
    "two_line = []\n",
    "three_line = []\n",
    "four_line = []\n",
    "five_line = []\n",
    "six_line = []\n",
    "s_line = []\n",
    "\n",
    "for item in feed.entity:\n",
    "    #Get stop name (need to check that each field exists to avoid errors)\n",
    "    if not item.HasField('trip_update'):\n",
    "        continue\n",
    "    else:\n",
    "        stop = item.trip_update.stop_time_update[0].stop_id\n",
    "    \n",
    "    #Get train line\n",
    "    if not item.HasField('trip_update'):\n",
    "        continue\n",
    "    else:\n",
    "        line = item.trip_update.trip.route_id\n",
    "    \n",
    "    #Append stop name to correct list\n",
    "    if line == '1':\n",
    "        one_line.append(stop)\n",
    "    elif line == '2':\n",
    "        two_line.append(stop)\n",
    "    elif line == '3':\n",
    "        three_line.append(stop)\n",
    "    elif line == '4':\n",
    "        four_line.append(stop)\n",
    "    elif line == '5':\n",
    "        five_line.append(stop)\n",
    "    elif line == '6':\n",
    "        six_line.append(stop)\n",
    "    elif line == 'S':\n",
    "        s_line.append(stop)"
   ]
  },
  {
   "cell_type": "code",
   "execution_count": 126,
   "metadata": {},
   "outputs": [],
   "source": [
    "one_line_update = []\n",
    "\n",
    "for stop in one_line:\n",
    "    station_name = df_stops[df_stops['stop_id'] == stop]['stop_name'].to_string(index=False)\n",
    "    if station_name not in one_line_update:\n",
    "        one_line_update.append(station_name)"
   ]
  },
  {
   "cell_type": "code",
   "execution_count": 127,
   "metadata": {},
   "outputs": [
    {
     "data": {
      "text/plain": [
       "['WTC Cortlandt',\n",
       " 'Van Cortlandt Park - 242 St',\n",
       " '238 St',\n",
       " 'Chambers St',\n",
       " '231 St',\n",
       " 'Franklin St',\n",
       " 'Marble Hill - 225 St',\n",
       " 'Dyckman St',\n",
       " 'Christopher St - Sheridan Sq',\n",
       " '181 St',\n",
       " '28 St',\n",
       " 'Times Sq - 42 St',\n",
       " '137 St - City College',\n",
       " '59 St - Columbus Circle',\n",
       " '96 St',\n",
       " '86 St',\n",
       " '79 St',\n",
       " '66 St - Lincoln Center',\n",
       " '116 St - Columbia University',\n",
       " '23 St',\n",
       " '215 St',\n",
       " 'South Ferry']"
      ]
     },
     "execution_count": 127,
     "metadata": {},
     "output_type": "execute_result"
    }
   ],
   "source": [
    "one_line_update"
   ]
  },
  {
   "cell_type": "code",
   "execution_count": null,
   "metadata": {},
   "outputs": [],
   "source": []
  }
 ],
 "metadata": {
  "kernelspec": {
   "display_name": "Python 3",
   "language": "python",
   "name": "python3"
  },
  "language_info": {
   "codemirror_mode": {
    "name": "ipython",
    "version": 3
   },
   "file_extension": ".py",
   "mimetype": "text/x-python",
   "name": "python",
   "nbconvert_exporter": "python",
   "pygments_lexer": "ipython3",
   "version": "3.6.5"
  }
 },
 "nbformat": 4,
 "nbformat_minor": 2
}
