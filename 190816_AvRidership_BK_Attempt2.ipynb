{
 "cells": [
  {
   "cell_type": "code",
   "execution_count": 11,
   "metadata": {},
   "outputs": [],
   "source": [
    "import pandas as pd\n",
    "import numpy as np\n",
    "import matplotlib.pyplot as plt\n",
    "import os\n",
    "import requests \n",
    "\n",
    "%matplotlib inline"
   ]
  },
  {
   "cell_type": "code",
   "execution_count": 19,
   "metadata": {
    "scrolled": true
   },
   "outputs": [
    {
     "data": {
      "text/html": [
       "<div>\n",
       "<style scoped>\n",
       "    .dataframe tbody tr th:only-of-type {\n",
       "        vertical-align: middle;\n",
       "    }\n",
       "\n",
       "    .dataframe tbody tr th {\n",
       "        vertical-align: top;\n",
       "    }\n",
       "\n",
       "    .dataframe thead th {\n",
       "        text-align: right;\n",
       "    }\n",
       "</style>\n",
       "<table border=\"1\" class=\"dataframe\">\n",
       "  <thead>\n",
       "    <tr style=\"text-align: right;\">\n",
       "      <th></th>\n",
       "      <th>Station ID</th>\n",
       "      <th>GTFS Stop ID</th>\n",
       "      <th>Division</th>\n",
       "      <th>Line</th>\n",
       "      <th>Stop Name</th>\n",
       "      <th>Borough</th>\n",
       "      <th>Daytime Routes</th>\n",
       "      <th>Structure</th>\n",
       "      <th>GTFS Latitude</th>\n",
       "      <th>GTFS Longitude</th>\n",
       "      <th>North Direction Label</th>\n",
       "      <th>South Direction Label</th>\n",
       "    </tr>\n",
       "  </thead>\n",
       "  <tbody>\n",
       "    <tr>\n",
       "      <th>0</th>\n",
       "      <td>1</td>\n",
       "      <td>R01</td>\n",
       "      <td>BMT</td>\n",
       "      <td>Astoria</td>\n",
       "      <td>Astoria - Ditmars Blvd</td>\n",
       "      <td>Q</td>\n",
       "      <td>N W</td>\n",
       "      <td>Elevated</td>\n",
       "      <td>40.775036</td>\n",
       "      <td>-73.912034</td>\n",
       "      <td>NaN</td>\n",
       "      <td>Manhattan</td>\n",
       "    </tr>\n",
       "    <tr>\n",
       "      <th>1</th>\n",
       "      <td>2</td>\n",
       "      <td>R03</td>\n",
       "      <td>BMT</td>\n",
       "      <td>Astoria</td>\n",
       "      <td>Astoria Blvd</td>\n",
       "      <td>Q</td>\n",
       "      <td>N W</td>\n",
       "      <td>Elevated</td>\n",
       "      <td>40.770258</td>\n",
       "      <td>-73.917843</td>\n",
       "      <td>Ditmars Blvd</td>\n",
       "      <td>Manhattan</td>\n",
       "    </tr>\n",
       "    <tr>\n",
       "      <th>2</th>\n",
       "      <td>3</td>\n",
       "      <td>R04</td>\n",
       "      <td>BMT</td>\n",
       "      <td>Astoria</td>\n",
       "      <td>30 Av</td>\n",
       "      <td>Q</td>\n",
       "      <td>N W</td>\n",
       "      <td>Elevated</td>\n",
       "      <td>40.766779</td>\n",
       "      <td>-73.921479</td>\n",
       "      <td>Astoria - Ditmars Blvd</td>\n",
       "      <td>Manhattan</td>\n",
       "    </tr>\n",
       "    <tr>\n",
       "      <th>3</th>\n",
       "      <td>4</td>\n",
       "      <td>R05</td>\n",
       "      <td>BMT</td>\n",
       "      <td>Astoria</td>\n",
       "      <td>Broadway</td>\n",
       "      <td>Q</td>\n",
       "      <td>N W</td>\n",
       "      <td>Elevated</td>\n",
       "      <td>40.761820</td>\n",
       "      <td>-73.925508</td>\n",
       "      <td>Astoria - Ditmars Blvd</td>\n",
       "      <td>Manhattan</td>\n",
       "    </tr>\n",
       "    <tr>\n",
       "      <th>4</th>\n",
       "      <td>5</td>\n",
       "      <td>R06</td>\n",
       "      <td>BMT</td>\n",
       "      <td>Astoria</td>\n",
       "      <td>36 Av</td>\n",
       "      <td>Q</td>\n",
       "      <td>N W</td>\n",
       "      <td>Elevated</td>\n",
       "      <td>40.756804</td>\n",
       "      <td>-73.929575</td>\n",
       "      <td>Astoria - Ditmars Blvd</td>\n",
       "      <td>Manhattan</td>\n",
       "    </tr>\n",
       "  </tbody>\n",
       "</table>\n",
       "</div>"
      ],
      "text/plain": [
       "   Station ID GTFS Stop ID Division     Line               Stop Name Borough  \\\n",
       "0           1          R01      BMT  Astoria  Astoria - Ditmars Blvd       Q   \n",
       "1           2          R03      BMT  Astoria            Astoria Blvd       Q   \n",
       "2           3          R04      BMT  Astoria                   30 Av       Q   \n",
       "3           4          R05      BMT  Astoria                Broadway       Q   \n",
       "4           5          R06      BMT  Astoria                   36 Av       Q   \n",
       "\n",
       "  Daytime Routes Structure  GTFS Latitude  GTFS Longitude  \\\n",
       "0            N W  Elevated      40.775036      -73.912034   \n",
       "1            N W  Elevated      40.770258      -73.917843   \n",
       "2            N W  Elevated      40.766779      -73.921479   \n",
       "3            N W  Elevated      40.761820      -73.925508   \n",
       "4            N W  Elevated      40.756804      -73.929575   \n",
       "\n",
       "    North Direction Label South Direction Label  \n",
       "0                     NaN             Manhattan  \n",
       "1            Ditmars Blvd             Manhattan  \n",
       "2  Astoria - Ditmars Blvd             Manhattan  \n",
       "3  Astoria - Ditmars Blvd             Manhattan  \n",
       "4  Astoria - Ditmars Blvd             Manhattan  "
      ]
     },
     "execution_count": 19,
     "metadata": {},
     "output_type": "execute_result"
    }
   ],
   "source": [
    "# Import and clean data\n",
    "\n",
    "df_stations = pd.read_csv('../stations.csv', encoding='latin1')\n",
    "df_stations.drop(columns=['Complex ID'], inplace=True)\n",
    "df_stations.head()"
   ]
  },
  {
   "cell_type": "code",
   "execution_count": 22,
   "metadata": {},
   "outputs": [],
   "source": [
    "# Set x axis and tick locations\n",
    "x_axis = np.arange(len(df_stations))\n",
    "tick_locations = [value for value in x_axis]"
   ]
  },
  {
   "cell_type": "code",
   "execution_count": 27,
   "metadata": {},
   "outputs": [
    {
     "data": {
      "image/png": "[encoded data removed]",
      "text/plain": [
       "<Figure size 1440x216 with 1 Axes>"
      ]
     },
     "metadata": {
      "needs_background": "light"
     },
     "output_type": "display_data"
    }
   ],
   "source": [
    "# Use DataFrame.plot() in order to create a bar chart of the data\n",
    "df_stations.plot(kind=\"bar\", figsize=(20,3))\n",
    "\n",
    "# Set a title for the chart\n",
    "plt.title(\"Stations\")\n",
    "\n",
    "plt.show()"
   ]
  },
  {
   "cell_type": "code",
   "execution_count": 14,
   "metadata": {},
   "outputs": [
    {
     "data": {
      "image/png": "[encoded data removed]",
      "text/plain": [
       "<Figure size 432x288 with 1 Axes>"
      ]
     },
     "metadata": {
      "needs_background": "light"
     },
     "output_type": "display_data"
    }
   ],
   "source": [
    "#chart data \n",
    "station_chart = df_stations.plot(kind=\"bar\", title=\"Trains\")\n",
    "station_chart.set_xlabel(\"Trains\")\n",
    "station_chart.set_ylabel(\"Average Ridership\")\n",
    "\n",
    "plt.show()"
   ]
  },
  {
   "cell_type": "code",
   "execution_count": 8,
   "metadata": {},
   "outputs": [
    {
     "data": {
      "text/html": [
       "<div>\n",
       "<style scoped>\n",
       "    .dataframe tbody tr th:only-of-type {\n",
       "        vertical-align: middle;\n",
       "    }\n",
       "\n",
       "    .dataframe tbody tr th {\n",
       "        vertical-align: top;\n",
       "    }\n",
       "\n",
       "    .dataframe thead th {\n",
       "        text-align: right;\n",
       "    }\n",
       "</style>\n",
       "<table border=\"1\" class=\"dataframe\">\n",
       "  <thead>\n",
       "    <tr style=\"text-align: right;\">\n",
       "      <th></th>\n",
       "      <th>Station</th>\n",
       "      <th>Train</th>\n",
       "      <th>Train2</th>\n",
       "      <th>Train3</th>\n",
       "      <th>Train4</th>\n",
       "      <th>Train5</th>\n",
       "      <th>Train6</th>\n",
       "      <th>Train7</th>\n",
       "      <th>Train8</th>\n",
       "      <th>Train9</th>\n",
       "      <th>...</th>\n",
       "      <th>2013</th>\n",
       "      <th>2014</th>\n",
       "      <th>2015</th>\n",
       "      <th>2016</th>\n",
       "      <th>2017</th>\n",
       "      <th>2018</th>\n",
       "      <th>2018 Change (#)</th>\n",
       "      <th>2018 Change (%)</th>\n",
       "      <th>Total Change (#)</th>\n",
       "      <th>Total Change (%)</th>\n",
       "    </tr>\n",
       "  </thead>\n",
       "  <tbody>\n",
       "    <tr>\n",
       "      <th>0</th>\n",
       "      <td>Times Sq-42 St / 42 St</td>\n",
       "      <td>N</td>\n",
       "      <td>Q</td>\n",
       "      <td>R</td>\n",
       "      <td>W</td>\n",
       "      <td>S</td>\n",
       "      <td>1</td>\n",
       "      <td>2</td>\n",
       "      <td>3</td>\n",
       "      <td>7.0</td>\n",
       "      <td>...</td>\n",
       "      <td>197696</td>\n",
       "      <td>204908</td>\n",
       "      <td>206247</td>\n",
       "      <td>202363</td>\n",
       "      <td>203545</td>\n",
       "      <td>204017</td>\n",
       "      <td>472</td>\n",
       "      <td>0.23</td>\n",
       "      <td>6321</td>\n",
       "      <td>3.2</td>\n",
       "    </tr>\n",
       "  </tbody>\n",
       "</table>\n",
       "<p>1 rows × 24 columns</p>\n",
       "</div>"
      ],
      "text/plain": [
       "                  Station Train Train2 Train3 Train4 Train5 Train6 Train7  \\\n",
       "0  Times Sq-42 St / 42 St     N      Q      R      W      S      1      2   \n",
       "\n",
       "  Train8  Train9  ...    2013    2014    2015    2016    2017    2018  \\\n",
       "0      3     7.0  ...  197696  204908  206247  202363  203545  204017   \n",
       "\n",
       "   2018 Change (#)  2018 Change (%)  Total Change (#)  Total Change (%)  \n",
       "0              472             0.23              6321               3.2  \n",
       "\n",
       "[1 rows x 24 columns]"
      ]
     },
     "execution_count": 8,
     "metadata": {},
     "output_type": "execute_result"
    }
   ],
   "source": [
    "df_ridership.head()"
   ]
  },
  {
   "cell_type": "code",
   "execution_count": 9,
   "metadata": {
    "scrolled": true
   },
   "outputs": [
    {
     "data": {
      "text/html": [
       "<div>\n",
       "<style scoped>\n",
       "    .dataframe tbody tr th:only-of-type {\n",
       "        vertical-align: middle;\n",
       "    }\n",
       "\n",
       "    .dataframe tbody tr th {\n",
       "        vertical-align: top;\n",
       "    }\n",
       "\n",
       "    .dataframe thead th {\n",
       "        text-align: right;\n",
       "    }\n",
       "</style>\n",
       "<table border=\"1\" class=\"dataframe\">\n",
       "  <thead>\n",
       "    <tr style=\"text-align: right;\">\n",
       "      <th></th>\n",
       "      <th>Station</th>\n",
       "      <th>Train</th>\n",
       "      <th>Train2</th>\n",
       "      <th>Train3</th>\n",
       "      <th>Train4</th>\n",
       "      <th>Train5</th>\n",
       "      <th>Train6</th>\n",
       "      <th>Train7</th>\n",
       "      <th>Train8</th>\n",
       "      <th>Train9</th>\n",
       "      <th>...</th>\n",
       "      <th>2013</th>\n",
       "      <th>2014</th>\n",
       "      <th>2015</th>\n",
       "      <th>2016</th>\n",
       "      <th>2017</th>\n",
       "      <th>2018</th>\n",
       "      <th>2018 Change (#)</th>\n",
       "      <th>2018 Change (%)</th>\n",
       "      <th>Total Change (#)</th>\n",
       "      <th>Total Change (%)</th>\n",
       "    </tr>\n",
       "  </thead>\n",
       "  <tbody>\n",
       "    <tr>\n",
       "      <th>0</th>\n",
       "      <td>Times Sq-42 St / 42 St</td>\n",
       "      <td>N</td>\n",
       "      <td>Q</td>\n",
       "      <td>R</td>\n",
       "      <td>W</td>\n",
       "      <td>S</td>\n",
       "      <td>1</td>\n",
       "      <td>2</td>\n",
       "      <td>3</td>\n",
       "      <td>7.0</td>\n",
       "      <td>...</td>\n",
       "      <td>197696</td>\n",
       "      <td>204908</td>\n",
       "      <td>206247</td>\n",
       "      <td>202363</td>\n",
       "      <td>203545</td>\n",
       "      <td>204017</td>\n",
       "      <td>472</td>\n",
       "      <td>0.23</td>\n",
       "      <td>6321</td>\n",
       "      <td>3.2</td>\n",
       "    </tr>\n",
       "  </tbody>\n",
       "</table>\n",
       "<p>1 rows × 24 columns</p>\n",
       "</div>"
      ],
      "text/plain": [
       "                  Station Train Train2 Train3 Train4 Train5 Train6 Train7  \\\n",
       "0  Times Sq-42 St / 42 St     N      Q      R      W      S      1      2   \n",
       "\n",
       "  Train8  Train9  ...    2013    2014    2015    2016    2017    2018  \\\n",
       "0      3     7.0  ...  197696  204908  206247  202363  203545  204017   \n",
       "\n",
       "   2018 Change (#)  2018 Change (%)  Total Change (#)  Total Change (%)  \n",
       "0              472             0.23              6321               3.2  \n",
       "\n",
       "[1 rows x 24 columns]"
      ]
     },
     "execution_count": 9,
     "metadata": {},
     "output_type": "execute_result"
    }
   ],
   "source": [
    "df_ridership.sort_values(by='Total Change (%)', ascending=False)"
   ]
  },
  {
   "cell_type": "code",
   "execution_count": 10,
   "metadata": {
    "scrolled": true
   },
   "outputs": [
    {
     "data": {
      "text/html": [
       "<div>\n",
       "<style scoped>\n",
       "    .dataframe tbody tr th:only-of-type {\n",
       "        vertical-align: middle;\n",
       "    }\n",
       "\n",
       "    .dataframe tbody tr th {\n",
       "        vertical-align: top;\n",
       "    }\n",
       "\n",
       "    .dataframe thead th {\n",
       "        text-align: right;\n",
       "    }\n",
       "</style>\n",
       "<table border=\"1\" class=\"dataframe\">\n",
       "  <thead>\n",
       "    <tr style=\"text-align: right;\">\n",
       "      <th></th>\n",
       "      <th>Station</th>\n",
       "      <th>Train</th>\n",
       "      <th>Train2</th>\n",
       "      <th>Train3</th>\n",
       "      <th>Train4</th>\n",
       "      <th>Train5</th>\n",
       "      <th>Train6</th>\n",
       "      <th>Train7</th>\n",
       "      <th>Train8</th>\n",
       "      <th>Train9</th>\n",
       "      <th>...</th>\n",
       "      <th>2013</th>\n",
       "      <th>2014</th>\n",
       "      <th>2015</th>\n",
       "      <th>2016</th>\n",
       "      <th>2017</th>\n",
       "      <th>2018</th>\n",
       "      <th>2018 Change (#)</th>\n",
       "      <th>2018 Change (%)</th>\n",
       "      <th>Total Change (#)</th>\n",
       "      <th>Total Change (%)</th>\n",
       "    </tr>\n",
       "  </thead>\n",
       "  <tbody>\n",
       "    <tr>\n",
       "      <th>0</th>\n",
       "      <td>Times Sq-42 St / 42 St</td>\n",
       "      <td>N</td>\n",
       "      <td>Q</td>\n",
       "      <td>R</td>\n",
       "      <td>W</td>\n",
       "      <td>S</td>\n",
       "      <td>1</td>\n",
       "      <td>2</td>\n",
       "      <td>3</td>\n",
       "      <td>7.0</td>\n",
       "      <td>...</td>\n",
       "      <td>197696</td>\n",
       "      <td>204908</td>\n",
       "      <td>206247</td>\n",
       "      <td>202363</td>\n",
       "      <td>203545</td>\n",
       "      <td>204017</td>\n",
       "      <td>472</td>\n",
       "      <td>0.23</td>\n",
       "      <td>6321</td>\n",
       "      <td>3.2</td>\n",
       "    </tr>\n",
       "  </tbody>\n",
       "</table>\n",
       "<p>1 rows × 24 columns</p>\n",
       "</div>"
      ],
      "text/plain": [
       "                  Station Train Train2 Train3 Train4 Train5 Train6 Train7  \\\n",
       "0  Times Sq-42 St / 42 St     N      Q      R      W      S      1      2   \n",
       "\n",
       "  Train8  Train9  ...    2013    2014    2015    2016    2017    2018  \\\n",
       "0      3     7.0  ...  197696  204908  206247  202363  203545  204017   \n",
       "\n",
       "   2018 Change (#)  2018 Change (%)  Total Change (#)  Total Change (%)  \n",
       "0              472             0.23              6321               3.2  \n",
       "\n",
       "[1 rows x 24 columns]"
      ]
     },
     "execution_count": 10,
     "metadata": {},
     "output_type": "execute_result"
    }
   ],
   "source": [
    "df_ridership.sort_values(by='Total Change (#)', ascending=False)"
   ]
  },
  {
   "cell_type": "code",
   "execution_count": null,
   "metadata": {},
   "outputs": [],
   "source": [
    "# Find out average of each year \n",
    "ridership_average = gender_groups['tripduration'].count()"
   ]
  },
  {
   "cell_type": "code",
   "execution_count": null,
   "metadata": {},
   "outputs": [],
   "source": []
  },
  {
   "cell_type": "code",
   "execution_count": null,
   "metadata": {},
   "outputs": [],
   "source": []
  },
  {
   "cell_type": "code",
   "execution_count": null,
   "metadata": {},
   "outputs": [],
   "source": []
  },
  {
   "cell_type": "code",
   "execution_count": null,
   "metadata": {},
   "outputs": [],
   "source": []
  }
 ],
 "metadata": {
  "kernelspec": {
   "display_name": "Python 3",
   "language": "python",
   "name": "python3"
  },
  "language_info": {
   "codemirror_mode": {
    "name": "ipython",
    "version": 3
   },
   "file_extension": ".py",
   "mimetype": "text/x-python",
   "name": "python",
   "nbconvert_exporter": "python",
   "pygments_lexer": "ipython3",
   "version": "3.7.3"
  }
 },
 "nbformat": 4,
 "nbformat_minor": 2
}
