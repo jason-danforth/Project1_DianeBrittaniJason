{
 "cells": [
  {
   "cell_type": "code",
   "execution_count": 145,
   "metadata": {},
   "outputs": [],
   "source": [
    "import pandas as pd\n",
    "import requests\n",
    "import matplotlib.pyplot as plt\n",
    "from google.transit import gtfs_realtime_pb2\n",
    "from pprint import pprint\n",
    "\n",
    "%matplotlib inline"
   ]
  },
  {
   "cell_type": "markdown",
   "metadata": {},
   "source": [
    "Medium post on working with gtfs realtime data: https://medium.com/@BennettGarner/parsing-gtfs-format-transit-data-in-real-time-with-python-3a528ba7aab7\n",
    "\n",
    "And the repo with actual code: https://github.com/bennett39/mta-real-time-data/blob/master/gtfs.py\n",
    "\n",
    "GTFS reference material: https://developers.google.com/transit/gtfs-realtime/reference/"
   ]
  },
  {
   "cell_type": "code",
   "execution_count": 146,
   "metadata": {},
   "outputs": [],
   "source": [
    "df_stops = pd.read_csv('data\\google_transit\\stops.csv')"
   ]
  },
  {
   "cell_type": "code",
   "execution_count": 147,
   "metadata": {},
   "outputs": [],
   "source": [
    "api_key = '230ffa803afc2f7fa526a3e39982256d'"
   ]
  },
  {
   "cell_type": "code",
   "execution_count": 148,
   "metadata": {},
   "outputs": [],
   "source": [
    "url_123456S = f'http://datamine.mta.info/mta_esi.php?key={api_key}&feed_id=1'\n",
    "url_ACEHS = 'http://datamine.mta.info/mta_esi.php?key={api_key}&feed_id=26'\n",
    "url_NQRW = 'http://datamine.mta.info/mta_esi.php?key={api_key}&feed_id=16'\n",
    "url_BDFM = 'http://datamine.mta.info/mta_esi.php?key={api_key}&feed_id=21'\n",
    "url_L = 'http://datamine.mta.info/mta_esi.php?key={api_key}&feed_id=2'\n",
    "url_G = 'http://datamine.mta.info/mta_esi.php?key={api_key}&feed_id=31'\n",
    "url_JZ = 'http://datamine.mta.info/mta_esi.php?key={api_key}&feed_id=36'\n",
    "url_7 = 'http://datamine.mta.info/mta_esi.php?key={api_key}&feed_id=51'"
   ]
  },
  {
   "cell_type": "code",
   "execution_count": 149,
   "metadata": {},
   "outputs": [],
   "source": [
    "# list of unique URLs for each train line: http://datamine.mta.info/list-of-feeds\n",
    "url = url_123456S"
   ]
  },
  {
   "cell_type": "code",
   "execution_count": 150,
   "metadata": {},
   "outputs": [
    {
     "data": {
      "text/plain": [
       "87453"
      ]
     },
     "execution_count": 150,
     "metadata": {},
     "output_type": "execute_result"
    }
   ],
   "source": [
    "# make request\n",
    "response = requests.get(url)\n",
    "feed = gtfs_realtime_pb2.FeedMessage()\n",
    "feed.ParseFromString(response.content)"
   ]
  },
  {
   "cell_type": "code",
   "execution_count": 151,
   "metadata": {},
   "outputs": [
    {
     "data": {
      "text/plain": [
       "google.protobuf.pyext._message.RepeatedCompositeContainer"
      ]
     },
     "execution_count": 151,
     "metadata": {},
     "output_type": "execute_result"
    }
   ],
   "source": [
    "type(feed.entity)"
   ]
  },
  {
   "cell_type": "code",
   "execution_count": 152,
   "metadata": {
    "scrolled": true
   },
   "outputs": [
    {
     "data": {
      "text/plain": [
       "id: \"000001\"\n",
       "trip_update {\n",
       "  trip {\n",
       "    trip_id: \"066500_2..S12X333\"\n",
       "    start_date: \"20190824\"\n",
       "    route_id: \"2\"\n",
       "  }\n",
       "  stop_time_update {\n",
       "    arrival {\n",
       "      time: 1566664600\n",
       "    }\n",
       "    stop_id: \"247S\"\n",
       "  }\n",
       "}"
      ]
     },
     "execution_count": 152,
     "metadata": {},
     "output_type": "execute_result"
    }
   ],
   "source": [
    "feed.entity[0]"
   ]
  },
  {
   "cell_type": "code",
   "execution_count": 153,
   "metadata": {},
   "outputs": [
    {
     "data": {
      "text/plain": [
       "'247S'"
      ]
     },
     "execution_count": 153,
     "metadata": {},
     "output_type": "execute_result"
    }
   ],
   "source": [
    "feed.entity[0].trip_update.stop_time_update[0].stop_id"
   ]
  },
  {
   "cell_type": "code",
   "execution_count": 154,
   "metadata": {},
   "outputs": [],
   "source": [
    "one_line = []\n",
    "two_line = []\n",
    "three_line = []\n",
    "four_line = []\n",
    "five_line = []\n",
    "six_line = []\n",
    "s_line = []\n",
    "\n",
    "for item in feed.entity:\n",
    "    #Get stop name (need to check that each field exists to avoid errors)\n",
    "    if not item.HasField('trip_update'):\n",
    "        continue\n",
    "    else:\n",
    "        stop = item.trip_update.stop_time_update[0].stop_id\n",
    "    \n",
    "    #Get train line\n",
    "    if not item.HasField('trip_update'):\n",
    "        continue\n",
    "    else:\n",
    "        line = item.trip_update.trip.route_id\n",
    "    \n",
    "    #Append stop name to correct list\n",
    "    if line == '1':\n",
    "        one_line.append(stop)\n",
    "    elif line == '2':\n",
    "        two_line.append(stop)\n",
    "    elif line == '3':\n",
    "        three_line.append(stop)\n",
    "    elif line == '4':\n",
    "        four_line.append(stop)\n",
    "    elif line == '5':\n",
    "        five_line.append(stop)\n",
    "    elif line == '6':\n",
    "        six_line.append(stop)\n",
    "    elif line == 'S':\n",
    "        s_line.append(stop)"
   ]
  },
  {
   "cell_type": "code",
   "execution_count": 155,
   "metadata": {},
   "outputs": [],
   "source": [
    "one_line_update = []\n",
    "\n",
    "for stop in one_line:\n",
    "    station_name = df_stops[df_stops['stop_id'] == stop]['stop_name'].to_string(index=False)\n",
    "    if station_name not in one_line_update:\n",
    "        one_line_update.append(station_name)"
   ]
  },
  {
   "cell_type": "code",
   "execution_count": 156,
   "metadata": {},
   "outputs": [
    {
     "data": {
      "text/plain": [
       "['145 St',\n",
       " 'Marble Hill - 225 St',\n",
       " '215 St',\n",
       " '168 St - Washington Hts',\n",
       " 'Van Cortlandt Park - 242 St',\n",
       " '137 St - City College']"
      ]
     },
     "execution_count": 156,
     "metadata": {},
     "output_type": "execute_result"
    }
   ],
   "source": [
    "one_line_update"
   ]
  },
  {
   "cell_type": "code",
   "execution_count": 157,
   "metadata": {},
   "outputs": [],
   "source": [
    "one_line_update = []\n",
    "\n",
    "for stop in one_line:\n",
    "    station_name = df_stops[df_stops['stop_id'] == stop]['stop_name'].to_string(index=False)\n",
    "    one_line_update.append(station_name)"
   ]
  },
  {
   "cell_type": "code",
   "execution_count": 158,
   "metadata": {},
   "outputs": [
    {
     "data": {
      "text/plain": [
       "['145 St',\n",
       " 'Marble Hill - 225 St',\n",
       " '215 St',\n",
       " '168 St - Washington Hts',\n",
       " 'Van Cortlandt Park - 242 St',\n",
       " '145 St',\n",
       " 'Van Cortlandt Park - 242 St',\n",
       " '137 St - City College',\n",
       " 'Van Cortlandt Park - 242 St',\n",
       " '137 St - City College',\n",
       " 'Van Cortlandt Park - 242 St']"
      ]
     },
     "execution_count": 158,
     "metadata": {},
     "output_type": "execute_result"
    }
   ],
   "source": [
    "one_line_update"
   ]
  },
  {
   "cell_type": "code",
   "execution_count": null,
   "metadata": {},
   "outputs": [],
   "source": []
  }
 ],
 "metadata": {
  "kernelspec": {
   "display_name": "Python 3",
   "language": "python",
   "name": "python3"
  },
  "language_info": {
   "codemirror_mode": {
    "name": "ipython",
    "version": 3
   },
   "file_extension": ".py",
   "mimetype": "text/x-python",
   "name": "python",
   "nbconvert_exporter": "python",
   "pygments_lexer": "ipython3",
   "version": "3.6.5"
  }
 },
 "nbformat": 4,
 "nbformat_minor": 2
}
