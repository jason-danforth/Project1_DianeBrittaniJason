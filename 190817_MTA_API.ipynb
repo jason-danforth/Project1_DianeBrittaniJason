{
 "cells": [
  {
   "cell_type": "code",
   "execution_count": 9,
   "metadata": {},
   "outputs": [],
   "source": [
    "import pandas as pd\n",
    "import requests\n",
    "import matplotlib.pyplot as plt\n",
    "from google.transit import gtfs_realtime_pb2\n",
    "from pprint import pprint\n",
    "\n",
    "%matplotlib inline"
   ]
  },
  {
   "cell_type": "markdown",
   "metadata": {},
   "source": [
    "Medium post on working with gtfs realtime data: https://medium.com/@BennettGarner/parsing-gtfs-format-transit-data-in-real-time-with-python-3a528ba7aab7\n",
    "\n",
    "And the repo with actual code: https://github.com/bennett39/mta-real-time-data/blob/master/gtfs.py\n",
    "\n",
    "GTFS reference material: https://developers.google.com/transit/gtfs-realtime/reference/"
   ]
  },
  {
   "cell_type": "code",
   "execution_count": 10,
   "metadata": {},
   "outputs": [],
   "source": [
    "api_key = '230ffa803afc2f7fa526a3e39982256d'"
   ]
  },
  {
   "cell_type": "code",
   "execution_count": 11,
   "metadata": {},
   "outputs": [],
   "source": [
    "# list of unique URLs for each train line: http://datamine.mta.info/list-of-feeds\n",
    "url = f'http://datamine.mta.info/mta_esi.php?key={api_key}&feed_id=1'"
   ]
  },
  {
   "cell_type": "code",
   "execution_count": 12,
   "metadata": {},
   "outputs": [
    {
     "data": {
      "text/plain": [
       "'http://datamine.mta.info/mta_esi.php?key=230ffa803afc2f7fa526a3e39982256d&feed_id=1'"
      ]
     },
     "execution_count": 12,
     "metadata": {},
     "output_type": "execute_result"
    }
   ],
   "source": [
    "url"
   ]
  },
  {
   "cell_type": "code",
   "execution_count": null,
   "metadata": {},
   "outputs": [],
   "source": [
    "from google.transit import gtfs_realtime_pb2"
   ]
  },
  {
   "cell_type": "code",
   "execution_count": 13,
   "metadata": {},
   "outputs": [],
   "source": [
    "feed = gtfs_realtime_pb2.FeedMessage()"
   ]
  },
  {
   "cell_type": "code",
   "execution_count": 15,
   "metadata": {},
   "outputs": [
    {
     "data": {
      "text/plain": [
       "75298"
      ]
     },
     "execution_count": 15,
     "metadata": {},
     "output_type": "execute_result"
    }
   ],
   "source": [
    "feed.ParseFromString(response.content)"
   ]
  },
  {
   "cell_type": "code",
   "execution_count": 16,
   "metadata": {},
   "outputs": [
    {
     "data": {
      "text/plain": [
       "id: \"000001\"\n",
       "trip_update {\n",
       "  trip {\n",
       "    trip_id: \"108000_2..S12X333\"\n",
       "    start_date: \"20190817\"\n",
       "    route_id: \"2\"\n",
       "  }\n",
       "  stop_time_update {\n",
       "    arrival {\n",
       "      time: 1566084668\n",
       "    }\n",
       "    stop_id: \"247S\"\n",
       "  }\n",
       "}"
      ]
     },
     "execution_count": 16,
     "metadata": {},
     "output_type": "execute_result"
    }
   ],
   "source": [
    "feed.entity[0]"
   ]
  },
  {
   "cell_type": "code",
   "execution_count": 17,
   "metadata": {},
   "outputs": [
    {
     "data": {
      "text/plain": [
       "id: \"000002\"\n",
       "vehicle {\n",
       "  trip {\n",
       "    trip_id: \"108000_2..S12X333\"\n",
       "    start_date: \"20190817\"\n",
       "    route_id: \"2\"\n",
       "  }\n",
       "  current_stop_sequence: 44\n",
       "  current_status: STOPPED_AT\n",
       "  timestamp: 1566084668\n",
       "  stop_id: \"247S\"\n",
       "}"
      ]
     },
     "execution_count": 17,
     "metadata": {},
     "output_type": "execute_result"
    }
   ],
   "source": [
    "feed.entity[1]"
   ]
  },
  {
   "cell_type": "code",
   "execution_count": 18,
   "metadata": {},
   "outputs": [
    {
     "data": {
      "text/plain": [
       "id: \"000003\"\n",
       "trip_update {\n",
       "  trip {\n",
       "    trip_id: \"108150_2..N12X333\"\n",
       "    start_date: \"20190817\"\n",
       "    route_id: \"2\"\n",
       "  }\n",
       "  stop_time_update {\n",
       "    arrival {\n",
       "      time: 1566084749\n",
       "    }\n",
       "    stop_id: \"201N\"\n",
       "  }\n",
       "}"
      ]
     },
     "execution_count": 18,
     "metadata": {},
     "output_type": "execute_result"
    }
   ],
   "source": [
    "feed.entity[2]"
   ]
  },
  {
   "cell_type": "code",
   "execution_count": null,
   "metadata": {},
   "outputs": [],
   "source": []
  }
 ],
 "metadata": {
  "kernelspec": {
   "display_name": "Python 3",
   "language": "python",
   "name": "python3"
  },
  "language_info": {
   "codemirror_mode": {
    "name": "ipython",
    "version": 3
   },
   "file_extension": ".py",
   "mimetype": "text/x-python",
   "name": "python",
   "nbconvert_exporter": "python",
   "pygments_lexer": "ipython3",
   "version": "3.6.5"
  }
 },
 "nbformat": 4,
 "nbformat_minor": 2
}
